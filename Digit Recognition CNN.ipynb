{
 "cells": [
  {
   "cell_type": "code",
   "execution_count": 1,
   "metadata": {
    "_cell_guid": "b1076dfc-b9ad-4769-8c92-a6c4dae69d19",
    "_uuid": "8f2839f25d086af736a60e9eeb907d3b93b6e0e5",
    "execution": {
     "iopub.execute_input": "2020-08-13T05:41:14.506786Z",
     "iopub.status.busy": "2020-08-13T05:41:14.505712Z",
     "iopub.status.idle": "2020-08-13T05:41:14.512409Z",
     "shell.execute_reply": "2020-08-13T05:41:14.511755Z"
    },
    "papermill": {
     "duration": 0.02451,
     "end_time": "2020-08-13T05:41:14.512526",
     "exception": false,
     "start_time": "2020-08-13T05:41:14.488016",
     "status": "completed"
    },
    "tags": []
   },
   "outputs": [
    {
     "name": "stdout",
     "output_type": "stream",
     "text": [
      "/kaggle/input/digit-recognizer/train.csv\n",
      "/kaggle/input/digit-recognizer/test.csv\n",
      "/kaggle/input/digit-recognizer/sample_submission.csv\n"
     ]
    }
   ],
   "source": [
    "# This Python 3 environment comes with many helpful analytics libraries installed\n",
    "# It is defined by the kaggle/python Docker image: https://github.com/kaggle/docker-python\n",
    "# For example, here's several helpful packages to load\n",
    "\n",
    "import numpy as np # linear algebra\n",
    "import pandas as pd # data processing, CSV file I/O (e.g. pd.read_csv)\n",
    "\n",
    "# Input data files are available in the read-only \"../input/\" directory\n",
    "# For example, running this (by clicking run or pressing Shift+Enter) will list all files under the input directory\n",
    "\n",
    "import os\n",
    "for dirname, _, filenames in os.walk('/kaggle/input'):\n",
    "    for filename in filenames:\n",
    "        print(os.path.join(dirname, filename))\n",
    "\n",
    "# You can write up to 5GB to the current directory (/kaggle/working/) that gets preserved as output when you create a version using \"Save & Run All\" \n",
    "# You can also write temporary files to /kaggle/temp/, but they won't be saved outside of the current session"
   ]
  },
  {
   "cell_type": "code",
   "execution_count": 2,
   "metadata": {
    "_cell_guid": "79c7e3d0-c299-4dcb-8224-4455121ee9b0",
    "_uuid": "d629ff2d2480ee46fbb7e2d37f6b5fab8052498a",
    "execution": {
     "iopub.execute_input": "2020-08-13T05:41:14.539968Z",
     "iopub.status.busy": "2020-08-13T05:41:14.539337Z",
     "iopub.status.idle": "2020-08-13T05:41:17.507402Z",
     "shell.execute_reply": "2020-08-13T05:41:17.506769Z"
    },
    "papermill": {
     "duration": 2.984257,
     "end_time": "2020-08-13T05:41:17.507530",
     "exception": false,
     "start_time": "2020-08-13T05:41:14.523273",
     "status": "completed"
    },
    "tags": []
   },
   "outputs": [],
   "source": [
    "dataset = pd.read_csv(\"/kaggle/input/digit-recognizer/train.csv\")"
   ]
  },
  {
   "cell_type": "code",
   "execution_count": 3,
   "metadata": {
    "execution": {
     "iopub.execute_input": "2020-08-13T05:41:17.535698Z",
     "iopub.status.busy": "2020-08-13T05:41:17.535115Z",
     "iopub.status.idle": "2020-08-13T05:41:18.980687Z",
     "shell.execute_reply": "2020-08-13T05:41:18.979564Z"
    },
    "papermill": {
     "duration": 1.462388,
     "end_time": "2020-08-13T05:41:18.980844",
     "exception": false,
     "start_time": "2020-08-13T05:41:17.518456",
     "status": "completed"
    },
    "tags": []
   },
   "outputs": [],
   "source": [
    "y = dataset.iloc[:,0].values\n",
    "x = dataset.iloc[:,1:].values.reshape(-1,28,28,1)\n",
    "\n",
    "x = x.astype('float32')\n",
    "y = y.astype('float32')\n",
    "\n",
    "from sklearn.model_selection import train_test_split\n",
    "x_train,x_test,y_train,y_test = train_test_split(x,y,random_state = 0,test_size = 0.1)"
   ]
  },
  {
   "cell_type": "code",
   "execution_count": 4,
   "metadata": {
    "execution": {
     "iopub.execute_input": "2020-08-13T05:41:19.011022Z",
     "iopub.status.busy": "2020-08-13T05:41:19.008991Z",
     "iopub.status.idle": "2020-08-13T05:41:19.011798Z",
     "shell.execute_reply": "2020-08-13T05:41:19.012328Z"
    },
    "papermill": {
     "duration": 0.019843,
     "end_time": "2020-08-13T05:41:19.012457",
     "exception": false,
     "start_time": "2020-08-13T05:41:18.992614",
     "status": "completed"
    },
    "tags": []
   },
   "outputs": [],
   "source": [
    "np.random.seed(2)"
   ]
  },
  {
   "cell_type": "code",
   "execution_count": 5,
   "metadata": {
    "execution": {
     "iopub.execute_input": "2020-08-13T05:41:19.040150Z",
     "iopub.status.busy": "2020-08-13T05:41:19.038620Z",
     "iopub.status.idle": "2020-08-13T05:41:19.082334Z",
     "shell.execute_reply": "2020-08-13T05:41:19.081662Z"
    },
    "papermill": {
     "duration": 0.059057,
     "end_time": "2020-08-13T05:41:19.082471",
     "exception": false,
     "start_time": "2020-08-13T05:41:19.023414",
     "status": "completed"
    },
    "tags": []
   },
   "outputs": [],
   "source": [
    "x_train = x_train/255.0\n",
    "x_test = x_test/255.0"
   ]
  },
  {
   "cell_type": "code",
   "execution_count": 6,
   "metadata": {
    "execution": {
     "iopub.execute_input": "2020-08-13T05:41:19.110642Z",
     "iopub.status.busy": "2020-08-13T05:41:19.109995Z",
     "iopub.status.idle": "2020-08-13T05:41:19.116465Z",
     "shell.execute_reply": "2020-08-13T05:41:19.116960Z"
    },
    "papermill": {
     "duration": 0.023301,
     "end_time": "2020-08-13T05:41:19.117087",
     "exception": false,
     "start_time": "2020-08-13T05:41:19.093786",
     "status": "completed"
    },
    "tags": []
   },
   "outputs": [
    {
     "data": {
      "text/plain": [
       "(37800, 28, 28, 1)"
      ]
     },
     "execution_count": 6,
     "metadata": {},
     "output_type": "execute_result"
    }
   ],
   "source": [
    "x_train.shape"
   ]
  },
  {
   "cell_type": "code",
   "execution_count": 7,
   "metadata": {
    "execution": {
     "iopub.execute_input": "2020-08-13T05:41:19.145784Z",
     "iopub.status.busy": "2020-08-13T05:41:19.144866Z",
     "iopub.status.idle": "2020-08-13T05:41:19.148381Z",
     "shell.execute_reply": "2020-08-13T05:41:19.148890Z"
    },
    "papermill": {
     "duration": 0.020454,
     "end_time": "2020-08-13T05:41:19.149006",
     "exception": false,
     "start_time": "2020-08-13T05:41:19.128552",
     "status": "completed"
    },
    "tags": []
   },
   "outputs": [
    {
     "data": {
      "text/plain": [
       "(37800,)"
      ]
     },
     "execution_count": 7,
     "metadata": {},
     "output_type": "execute_result"
    }
   ],
   "source": [
    "y_train.shape"
   ]
  },
  {
   "cell_type": "code",
   "execution_count": 8,
   "metadata": {
    "execution": {
     "iopub.execute_input": "2020-08-13T05:41:19.177483Z",
     "iopub.status.busy": "2020-08-13T05:41:19.176569Z",
     "iopub.status.idle": "2020-08-13T05:41:19.180302Z",
     "shell.execute_reply": "2020-08-13T05:41:19.180812Z"
    },
    "papermill": {
     "duration": 0.020152,
     "end_time": "2020-08-13T05:41:19.180925",
     "exception": false,
     "start_time": "2020-08-13T05:41:19.160773",
     "status": "completed"
    },
    "tags": []
   },
   "outputs": [
    {
     "data": {
      "text/plain": [
       "(4200, 28, 28, 1)"
      ]
     },
     "execution_count": 8,
     "metadata": {},
     "output_type": "execute_result"
    }
   ],
   "source": [
    "x_test.shape"
   ]
  },
  {
   "cell_type": "code",
   "execution_count": 9,
   "metadata": {
    "execution": {
     "iopub.execute_input": "2020-08-13T05:41:19.210859Z",
     "iopub.status.busy": "2020-08-13T05:41:19.210197Z",
     "iopub.status.idle": "2020-08-13T05:41:19.446299Z",
     "shell.execute_reply": "2020-08-13T05:41:19.445759Z"
    },
    "papermill": {
     "duration": 0.253157,
     "end_time": "2020-08-13T05:41:19.446427",
     "exception": false,
     "start_time": "2020-08-13T05:41:19.193270",
     "status": "completed"
    },
    "tags": []
   },
   "outputs": [
    {
     "data": {
      "text/plain": [
       "<matplotlib.image.AxesImage at 0x7f1e507a0f10>"
      ]
     },
     "execution_count": 9,
     "metadata": {},
     "output_type": "execute_result"
    },
    {
     "data": {
      "image/png": "[encoded data removed]",
      "text/plain": [
       "<Figure size 432x288 with 1 Axes>"
      ]
     },
     "metadata": {
      "needs_background": "light"
     },
     "output_type": "display_data"
    }
   ],
   "source": [
    "import matplotlib.pyplot as plt\n",
    "plt.imshow(x_train[111][:,:,0])"
   ]
  },
  {
   "cell_type": "code",
   "execution_count": 10,
   "metadata": {
    "execution": {
     "iopub.execute_input": "2020-08-13T05:41:19.489607Z",
     "iopub.status.busy": "2020-08-13T05:41:19.488757Z",
     "iopub.status.idle": "2020-08-13T05:41:25.579301Z",
     "shell.execute_reply": "2020-08-13T05:41:25.580470Z"
    },
    "papermill": {
     "duration": 6.118148,
     "end_time": "2020-08-13T05:41:25.580666",
     "exception": false,
     "start_time": "2020-08-13T05:41:19.462518",
     "status": "completed"
    },
    "tags": []
   },
   "outputs": [],
   "source": [
    "import keras\n",
    "from keras.models import  Sequential\n",
    "from keras.layers.core import  Lambda , Dense, Flatten, Dropout\n",
    "from keras.layers import BatchNormalization, Convolution2D , MaxPooling2D\n",
    "\n",
    "def CNN_model():\n",
    "    model = Sequential([\n",
    "        Convolution2D(32,(3,3), activation='relu', input_shape=(28,28,1)),\n",
    "        Convolution2D(32,(3,3), activation='relu'),\n",
    "        MaxPooling2D(),\n",
    "        Dropout(0.45),\n",
    "        Convolution2D(64,(3,3), activation='relu',padding = 'same'),\n",
    "        Convolution2D(64,(3,3), activation='relu',padding = 'same'),\n",
    "        MaxPooling2D(),\n",
    "        Dropout(0.45),\n",
    "        Flatten(),\n",
    "        Dense(256, activation='relu'),\n",
    "        Dense(10, activation='softmax')\n",
    "        ])\n",
    "    model.compile(optimizer = 'Adam',\n",
    "             loss = 'sparse_categorical_crossentropy',\n",
    "             metrics = ['accuracy'])\n",
    "    return model"
   ]
  },
  {
   "cell_type": "code",
   "execution_count": 11,
   "metadata": {
    "execution": {
     "iopub.execute_input": "2020-08-13T05:41:25.633270Z",
     "iopub.status.busy": "2020-08-13T05:41:25.627849Z",
     "iopub.status.idle": "2020-08-13T05:41:28.653820Z",
     "shell.execute_reply": "2020-08-13T05:41:28.653207Z"
    },
    "papermill": {
     "duration": 3.052971,
     "end_time": "2020-08-13T05:41:28.653936",
     "exception": false,
     "start_time": "2020-08-13T05:41:25.600965",
     "status": "completed"
    },
    "tags": []
   },
   "outputs": [],
   "source": [
    "model = CNN_model()"
   ]
  },
  {
   "cell_type": "code",
   "execution_count": 12,
   "metadata": {
    "execution": {
     "iopub.execute_input": "2020-08-13T05:41:28.687515Z",
     "iopub.status.busy": "2020-08-13T05:41:28.686808Z",
     "iopub.status.idle": "2020-08-13T05:43:37.225330Z",
     "shell.execute_reply": "2020-08-13T05:43:37.224028Z"
    },
    "papermill": {
     "duration": 128.556826,
     "end_time": "2020-08-13T05:43:37.225473",
     "exception": false,
     "start_time": "2020-08-13T05:41:28.668647",
     "status": "completed"
    },
    "tags": []
   },
   "outputs": [
    {
     "name": "stdout",
     "output_type": "stream",
     "text": [
      "Epoch 1/30\n",
      "1182/1182 [==============================] - 4s 3ms/step - loss: 0.1946 - accuracy: 0.9374\n",
      "Epoch 2/30\n",
      "1182/1182 [==============================] - 4s 3ms/step - loss: 0.0711 - accuracy: 0.9772\n",
      "Epoch 3/30\n",
      "1182/1182 [==============================] - 4s 3ms/step - loss: 0.0538 - accuracy: 0.9835\n",
      "Epoch 4/30\n",
      "1182/1182 [==============================] - 4s 3ms/step - loss: 0.0471 - accuracy: 0.9848\n",
      "Epoch 5/30\n",
      "1182/1182 [==============================] - 4s 3ms/step - loss: 0.0408 - accuracy: 0.9871\n",
      "Epoch 6/30\n",
      "1182/1182 [==============================] - 4s 4ms/step - loss: 0.0359 - accuracy: 0.9883\n",
      "Epoch 7/30\n",
      "1182/1182 [==============================] - 4s 3ms/step - loss: 0.0316 - accuracy: 0.9904\n",
      "Epoch 8/30\n",
      "1182/1182 [==============================] - 4s 4ms/step - loss: 0.0289 - accuracy: 0.9914\n",
      "Epoch 9/30\n",
      "1182/1182 [==============================] - 4s 4ms/step - loss: 0.0258 - accuracy: 0.9915\n",
      "Epoch 10/30\n",
      "1182/1182 [==============================] - 4s 3ms/step - loss: 0.0231 - accuracy: 0.9925\n",
      "Epoch 11/30\n",
      "1182/1182 [==============================] - 4s 4ms/step - loss: 0.0222 - accuracy: 0.9926\n",
      "Epoch 12/30\n",
      "1182/1182 [==============================] - 4s 4ms/step - loss: 0.0221 - accuracy: 0.9929\n",
      "Epoch 13/30\n",
      "1182/1182 [==============================] - 4s 4ms/step - loss: 0.0202 - accuracy: 0.9933\n",
      "Epoch 14/30\n",
      "1182/1182 [==============================] - 4s 4ms/step - loss: 0.0196 - accuracy: 0.9938\n",
      "Epoch 15/30\n",
      "1182/1182 [==============================] - 4s 3ms/step - loss: 0.0193 - accuracy: 0.9938\n",
      "Epoch 16/30\n",
      "1182/1182 [==============================] - 4s 3ms/step - loss: 0.0165 - accuracy: 0.9942\n",
      "Epoch 17/30\n",
      "1182/1182 [==============================] - 4s 3ms/step - loss: 0.0200 - accuracy: 0.9936\n",
      "Epoch 18/30\n",
      "1182/1182 [==============================] - 4s 3ms/step - loss: 0.0160 - accuracy: 0.9949\n",
      "Epoch 19/30\n",
      "1182/1182 [==============================] - 4s 3ms/step - loss: 0.0165 - accuracy: 0.9947\n",
      "Epoch 20/30\n",
      "1182/1182 [==============================] - 4s 3ms/step - loss: 0.0141 - accuracy: 0.9951\n",
      "Epoch 21/30\n",
      "1182/1182 [==============================] - 4s 3ms/step - loss: 0.0143 - accuracy: 0.9954\n",
      "Epoch 22/30\n",
      "1182/1182 [==============================] - 4s 4ms/step - loss: 0.0144 - accuracy: 0.9953\n",
      "Epoch 23/30\n",
      "1182/1182 [==============================] - 4s 4ms/step - loss: 0.0159 - accuracy: 0.9950\n",
      "Epoch 24/30\n",
      "1182/1182 [==============================] - 4s 4ms/step - loss: 0.0136 - accuracy: 0.9956\n",
      "Epoch 25/30\n",
      "1182/1182 [==============================] - 4s 3ms/step - loss: 0.0148 - accuracy: 0.9954\n",
      "Epoch 26/30\n",
      "1182/1182 [==============================] - 4s 3ms/step - loss: 0.0108 - accuracy: 0.9964\n",
      "Epoch 27/30\n",
      "1182/1182 [==============================] - 4s 3ms/step - loss: 0.0134 - accuracy: 0.9961\n",
      "Epoch 28/30\n",
      "1182/1182 [==============================] - 4s 3ms/step - loss: 0.0138 - accuracy: 0.9958\n",
      "Epoch 29/30\n",
      "1182/1182 [==============================] - 5s 4ms/step - loss: 0.0132 - accuracy: 0.9961\n",
      "Epoch 30/30\n",
      "1182/1182 [==============================] - 4s 3ms/step - loss: 0.0140 - accuracy: 0.9957\n"
     ]
    },
    {
     "data": {
      "text/plain": [
       "<tensorflow.python.keras.callbacks.History at 0x7f1e0003a150>"
      ]
     },
     "execution_count": 12,
     "metadata": {},
     "output_type": "execute_result"
    }
   ],
   "source": [
    "model.fit(x_train,y_train, epochs = 30)"
   ]
  },
  {
   "cell_type": "code",
   "execution_count": 13,
   "metadata": {
    "execution": {
     "iopub.execute_input": "2020-08-13T05:43:38.959557Z",
     "iopub.status.busy": "2020-08-13T05:43:38.957956Z",
     "iopub.status.idle": "2020-08-13T05:43:39.249150Z",
     "shell.execute_reply": "2020-08-13T05:43:39.248315Z"
    },
    "papermill": {
     "duration": 1.155889,
     "end_time": "2020-08-13T05:43:39.249277",
     "exception": false,
     "start_time": "2020-08-13T05:43:38.093388",
     "status": "completed"
    },
    "tags": []
   },
   "outputs": [
    {
     "name": "stdout",
     "output_type": "stream",
     "text": [
      "0.9923809523809524\n"
     ]
    }
   ],
   "source": [
    "y_pred = model.predict(x_test)\n",
    "y_pred = np.argmax(y_pred,axis = 1)\n",
    "from sklearn.metrics import accuracy_score\n",
    "acc = accuracy_score(y_test,y_pred)\n",
    "print(acc)"
   ]
  },
  {
   "cell_type": "code",
   "execution_count": 14,
   "metadata": {
    "execution": {
     "iopub.execute_input": "2020-08-13T05:43:40.981944Z",
     "iopub.status.busy": "2020-08-13T05:43:40.980833Z",
     "iopub.status.idle": "2020-08-13T05:43:44.457326Z",
     "shell.execute_reply": "2020-08-13T05:43:44.457951Z"
    },
    "papermill": {
     "duration": 4.327873,
     "end_time": "2020-08-13T05:43:44.458207",
     "exception": false,
     "start_time": "2020-08-13T05:43:40.130334",
     "status": "completed"
    },
    "tags": []
   },
   "outputs": [
    {
     "name": "stdout",
     "output_type": "stream",
     "text": [
      "[2 0 9 ... 3 9 2]\n"
     ]
    }
   ],
   "source": [
    "test = pd.read_csv(\"/kaggle/input/digit-recognizer/test.csv\")\n",
    "test = test.astype('float32')\n",
    "test = test/255\n",
    "test = test.iloc[:,:].values.reshape(-1,28,28,1)\n",
    "y_d = model.predict(test)\n",
    "y_d = np.argmax(y_d,axis = 1)\n",
    "print(y_d)\n",
    "sub = pd.read_csv(\"/kaggle/input/digit-recognizer/sample_submission.csv\")\n",
    "my_submission = pd.DataFrame({'ImageId':sub.ImageId,'Label': y_d})\n",
    "# you could use any filename. We choose submission here\n",
    "my_submission.to_csv('submission.csv', index=False)"
   ]
  }
 ],
 "metadata": {
  "kernelspec": {
   "display_name": "Python 3",
   "language": "python",
   "name": "python3"
  },
  "language_info": {
   "codemirror_mode": {
    "name": "ipython",
    "version": 3
   },
   "file_extension": ".py",
   "mimetype": "text/x-python",
   "name": "python",
   "nbconvert_exporter": "python",
   "pygments_lexer": "ipython3",
   "version": "3.7.6"
  },
  "papermill": {
   "duration": 156.964893,
   "end_time": "2020-08-13T05:43:47.062249",
   "environment_variables": {},
   "exception": null,
   "input_path": "__notebook__.ipynb",
   "output_path": "__notebook__.ipynb",
   "parameters": {},
   "start_time": "2020-08-13T05:41:10.097356",
   "version": "2.1.0"
  }
 },
 "nbformat": 4,
 "nbformat_minor": 4
}
