{
 "cells": [
  {
   "cell_type": "code",
   "execution_count": 1,
   "metadata": {
    "_cell_guid": "b1076dfc-b9ad-4769-8c92-a6c4dae69d19",
    "_uuid": "8f2839f25d086af736a60e9eeb907d3b93b6e0e5"
   },
   "outputs": [
    {
     "name": "stdout",
     "output_type": "stream",
     "text": [
      "['train.csv', 'sample_submission.csv', 'test.csv']\n"
     ]
    }
   ],
   "source": [
    "\n",
    "import numpy as np # linear algebra\n",
    "import pandas as pd # data processing, CSV file I/O (e.g. pd.read_csv)\n",
    "import matplotlib.pyplot as plt\n",
    "\n",
    "import os\n",
    "print(os.listdir(\"../input\"))\n",
    "\n",
    "dataset = pd.read_csv(\"../input/train.csv\")\n",
    "y = dataset.iloc[:,0].values\n",
    "x = dataset.iloc[:,1:].values.reshape(-1,28,28,1)\n",
    "\n",
    "from sklearn.model_selection import train_test_split\n",
    "x_train,x_test,y_train,y_test = train_test_split(x,y,random_state = 0,test_size = 0.2)\n"
   ]
  },
  {
   "cell_type": "code",
   "execution_count": 2,
   "metadata": {},
   "outputs": [],
   "source": [
    "x_train = x_train/255.0\n",
    "x_test = x_test/255.0"
   ]
  },
  {
   "cell_type": "code",
   "execution_count": 3,
   "metadata": {},
   "outputs": [],
   "source": [
    "import tensorflow as tf\n",
    "from tensorflow import keras"
   ]
  },
  {
   "cell_type": "code",
   "execution_count": 4,
   "metadata": {},
   "outputs": [
    {
     "data": {
      "text/plain": [
       "<matplotlib.image.AxesImage at 0x7f37172b5be0>"
      ]
     },
     "execution_count": 4,
     "metadata": {},
     "output_type": "execute_result"
    },
    {
     "data": {
      "image/png": "[encoded data removed]",
      "text/plain": [
       "<Figure size 432x288 with 1 Axes>"
      ]
     },
     "metadata": {
      "needs_background": "light"
     },
     "output_type": "display_data"
    }
   ],
   "source": [
    "plt.imshow(x_train[1121][:,:,0])"
   ]
  },
  {
   "cell_type": "code",
   "execution_count": 5,
   "metadata": {},
   "outputs": [],
   "source": [
    "model = keras.Sequential([\n",
    "    keras.layers.Flatten(input_shape = (28,28,1)),\n",
    "    keras.layers.Dense(128,activation = 'relu'),\n",
    "    keras.layers.Dense(10,activation = 'softmax')\n",
    "])"
   ]
  },
  {
   "cell_type": "code",
   "execution_count": 6,
   "metadata": {},
   "outputs": [],
   "source": [
    "model.compile(optimizer = 'Adam',\n",
    "             loss = 'sparse_categorical_crossentropy',\n",
    "             metrics = ['accuracy'])"
   ]
  },
  {
   "cell_type": "code",
   "execution_count": 7,
   "metadata": {},
   "outputs": [
    {
     "name": "stdout",
     "output_type": "stream",
     "text": [
      "Epoch 1/20\n",
      "33600/33600 [==============================] - 2s 64us/sample - loss: 0.3210 - acc: 0.9082\n",
      "Epoch 2/20\n",
      "33600/33600 [==============================] - 2s 59us/sample - loss: 0.1442 - acc: 0.9571\n",
      "Epoch 3/20\n",
      "33600/33600 [==============================] - 2s 59us/sample - loss: 0.0970 - acc: 0.9721\n",
      "Epoch 4/20\n",
      "33600/33600 [==============================] - 2s 59us/sample - loss: 0.0718 - acc: 0.9790\n",
      "Epoch 5/20\n",
      "33600/33600 [==============================] - 2s 60us/sample - loss: 0.0545 - acc: 0.9844\n",
      "Epoch 6/20\n",
      "33600/33600 [==============================] - 2s 59us/sample - loss: 0.0409 - acc: 0.9878\n",
      "Epoch 7/20\n",
      "33600/33600 [==============================] - 2s 59us/sample - loss: 0.0346 - acc: 0.9899\n",
      "Epoch 8/20\n",
      "33600/33600 [==============================] - 2s 59us/sample - loss: 0.0256 - acc: 0.9930\n",
      "Epoch 9/20\n",
      "33600/33600 [==============================] - 2s 59us/sample - loss: 0.0214 - acc: 0.9938\n",
      "Epoch 10/20\n",
      "33600/33600 [==============================] - 2s 59us/sample - loss: 0.0150 - acc: 0.9963\n",
      "Epoch 11/20\n",
      "33600/33600 [==============================] - 2s 59us/sample - loss: 0.0144 - acc: 0.9961\n",
      "Epoch 12/20\n",
      "33600/33600 [==============================] - 2s 59us/sample - loss: 0.0113 - acc: 0.9971\n",
      "Epoch 13/20\n",
      "33600/33600 [==============================] - 2s 60us/sample - loss: 0.0094 - acc: 0.9977\n",
      "Epoch 14/20\n",
      "33600/33600 [==============================] - 2s 60us/sample - loss: 0.0110 - acc: 0.9968\n",
      "Epoch 15/20\n",
      "33600/33600 [==============================] - 2s 60us/sample - loss: 0.0061 - acc: 0.9983\n",
      "Epoch 16/20\n",
      "33600/33600 [==============================] - 2s 59us/sample - loss: 0.0086 - acc: 0.9974\n",
      "Epoch 17/20\n",
      "33600/33600 [==============================] - 2s 60us/sample - loss: 0.0055 - acc: 0.9985\n",
      "Epoch 18/20\n",
      "33600/33600 [==============================] - 2s 60us/sample - loss: 0.0051 - acc: 0.9985\n",
      "Epoch 19/20\n",
      "33600/33600 [==============================] - 2s 59us/sample - loss: 0.0030 - acc: 0.9995\n",
      "Epoch 20/20\n",
      "33600/33600 [==============================] - 2s 59us/sample - loss: 0.0086 - acc: 0.9975\n"
     ]
    },
    {
     "data": {
      "text/plain": [
       "<tensorflow.python.keras.callbacks.History at 0x7f3717227128>"
      ]
     },
     "execution_count": 7,
     "metadata": {},
     "output_type": "execute_result"
    }
   ],
   "source": [
    "model.fit(x_train,y_train,epochs = 20)"
   ]
  },
  {
   "cell_type": "code",
   "execution_count": 8,
   "metadata": {},
   "outputs": [
    {
     "name": "stdout",
     "output_type": "stream",
     "text": [
      "0.9748809523809524\n"
     ]
    }
   ],
   "source": [
    "y_pred = model.predict(x_test)\n",
    "y_pred = np.argmax(y_pred,axis = 1)\n",
    "from sklearn.metrics import accuracy_score\n",
    "acc = accuracy_score(y_test,y_pred)\n",
    "print(acc)"
   ]
  },
  {
   "cell_type": "code",
   "execution_count": 9,
   "metadata": {},
   "outputs": [
    {
     "name": "stdout",
     "output_type": "stream",
     "text": [
      "[2 0 9 ... 3 9 2]\n"
     ]
    }
   ],
   "source": [
    "test = pd.read_csv(\"../input/test.csv\")\n",
    "test = test.iloc[:,:].values.reshape(-1,28,28,1)\n",
    "y_d = model.predict(test)\n",
    "y_d = np.argmax(y_d,axis = 1)\n",
    "print(y_d)\n",
    "sub = pd.read_csv(\"../input/sample_submission.csv\")\n",
    "my_submission = pd.DataFrame({'ImageId':sub.ImageId,'Label': y_d})\n",
    "# you could use any filename. We choose submission here\n",
    "my_submission.to_csv('submission.csv', index=False)"
   ]
  }
 ],
 "metadata": {
  "kernelspec": {
   "display_name": "Python 3",
   "language": "python",
   "name": "python3"
  },
  "language_info": {
   "codemirror_mode": {
    "name": "ipython",
    "version": 3
   },
   "file_extension": ".py",
   "mimetype": "text/x-python",
   "name": "python",
   "nbconvert_exporter": "python",
   "pygments_lexer": "ipython3",
   "version": "3.6.6"
  }
 },
 "nbformat": 4,
 "nbformat_minor": 1
}
